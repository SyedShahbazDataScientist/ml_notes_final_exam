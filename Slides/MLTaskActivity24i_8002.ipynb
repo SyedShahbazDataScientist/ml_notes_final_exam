{
  "nbformat": 4,
  "nbformat_minor": 0,
  "metadata": {
    "colab": {
      "provenance": []
    },
    "kernelspec": {
      "name": "python3",
      "display_name": "Python 3"
    },
    "language_info": {
      "name": "python"
    }
  },
  "cells": [
    {
      "cell_type": "code",
      "source": [
        "# Import Libraries\n",
        "import numpy as np\n",
        "import pandas as pd\n",
        "from sklearn.datasets import load_digits\n",
        "from sklearn.model_selection import train_test_split, cross_val_score, StratifiedKFold\n",
        "from sklearn.preprocessing import StandardScaler\n",
        "from sklearn.decomposition import PCA\n",
        "from sklearn import svm\n",
        "from sklearn.tree import DecisionTreeClassifier\n",
        "from sklearn.metrics import accuracy_score, precision_score, recall_score, roc_auc_score\n",
        "from scipy.stats import ttest_rel\n",
        "import tensorflow as tf\n",
        "from tensorflow.keras.models import Sequential\n",
        "from tensorflow.keras.layers import Dense, Input\n",
        "from scikeras.wrappers import KerasClassifier\n"
      ],
      "metadata": {
        "id": "5gDsssY4Skr3"
      },
      "execution_count": null,
      "outputs": []
    },
    {
      "cell_type": "code",
      "source": [
        "\n",
        "# Load and Prepare Data\n",
        "data = load_digits()\n",
        "X, y = data.data, data.target\n",
        "\n",
        "# Split into train-test (70-30)\n",
        "X_train, X_test, y_train, y_test = train_test_split(\n",
        "    X, y, test_size=0.3, random_state=42\n",
        ")\n",
        "\n",
        "# Standardize data\n",
        "scaler = StandardScaler()\n",
        "X_train_scaled = scaler.fit_transform(X_train)\n",
        "X_test_scaled = scaler.transform(X_test)\n",
        "\n",
        "# Apply PCA (retain 95% variance)\n",
        "pca = PCA(n_components=0.95)\n",
        "X_train_pca = pca.fit_transform(X_train_scaled)\n",
        "X_test_pca = pca.transform(X_test_scaled)\n",
        "\n",
        "print(f\"Original dimension: {X_train.shape[1]}\")\n",
        "print(f\"PCA-reduced dimension: {X_train_pca.shape[1]}\")\n",
        "\n"
      ],
      "metadata": {
        "colab": {
          "base_uri": "https://localhost:8080/"
        },
        "id": "kWTl66k3VXPz",
        "outputId": "77d3c662-54cf-42fd-d7f6-d5abc9334a18"
      },
      "execution_count": null,
      "outputs": [
        {
          "output_type": "stream",
          "name": "stdout",
          "text": [
            "Original dimension: 64\n",
            "PCA-reduced dimension: 40\n"
          ]
        }
      ]
    },
    {
      "cell_type": "code",
      "source": [
        "# Model Definitions\n",
        "# SVM Classifier\n",
        "svm_model = svm.SVC(probability=True, random_state=42)\n",
        "\n",
        "# Decision Tree\n",
        "tree_model = DecisionTreeClassifier(random_state=42)\n",
        "\n",
        "# Neural Network Model Creator Function\n",
        "def create_nn(input_shape):\n",
        "    model = Sequential([\n",
        "        Input(shape=(input_shape,)),\n",
        "        Dense(64, activation='relu'),\n",
        "        Dense(10, activation='softmax')\n",
        "    ])\n",
        "    model.compile(\n",
        "        optimizer='adam',\n",
        "        loss='sparse_categorical_crossentropy',\n",
        "        metrics=['accuracy']\n",
        "    )\n",
        "    return model\n",
        "\n"
      ],
      "metadata": {
        "id": "O8QzGCJkRBjx"
      },
      "execution_count": null,
      "outputs": []
    },
    {
      "cell_type": "code",
      "source": [
        "def manual_cross_val_score(X, y, n_splits=5):\n",
        "    \"\"\"Manual implementation of cross-validation for neural networks\"\"\"\n",
        "    skf = StratifiedKFold(n_splits=n_splits, shuffle=True, random_state=42)\n",
        "    scores = []\n",
        "\n",
        "    for train_idx, val_idx in skf.split(X, y):\n",
        "        X_fold_train, X_fold_val = X[train_idx], X[val_idx]\n",
        "        y_fold_train, y_fold_val = y[train_idx], y[val_idx]\n",
        "\n",
        "        # Create and train a new model for each fold\n",
        "        model = create_nn(X.shape[1])\n",
        "        model.fit(X_fold_train, y_fold_train,\n",
        "                 epochs=50, batch_size=32,\n",
        "                 verbose=0)\n",
        "\n",
        "        # Evaluate\n",
        "        _, accuracy = model.evaluate(X_fold_val, y_fold_val, verbose=0)\n",
        "        scores.append(accuracy)\n",
        "\n",
        "    return np.array(scores)\n",
        "\n"
      ],
      "metadata": {
        "id": "uJUwIlNoRBqk"
      },
      "execution_count": null,
      "outputs": []
    },
    {
      "cell_type": "code",
      "source": [
        "def evaluate_model(model, X_train, X_test, use_pca=False):\n",
        "    # Select PCA or original data\n",
        "    X_tr = X_train_pca if use_pca else X_train_scaled\n",
        "    X_te = X_test_pca if use_pca else X_test_scaled\n",
        "\n",
        "    if isinstance(model, str) and model == \"neural_network\":\n",
        "        # Handle neural network differently\n",
        "        # Create and train a new neural network\n",
        "        nn = create_nn(X_tr.shape[1])\n",
        "        nn.fit(X_tr, y_train, epochs=50, batch_size=32, verbose=0)\n",
        "\n",
        "        # Get predictions\n",
        "        y_pred = np.argmax(nn.predict(X_te), axis=1)\n",
        "        y_proba = nn.predict(X_te)\n",
        "\n",
        "        # Get cross-validation scores\n",
        "        cv_scores = manual_cross_val_score(X_tr, y_train)\n",
        "\n",
        "    else:\n",
        "        # Handle other models (SVM, Decision Tree)\n",
        "        model.fit(X_tr, y_train)\n",
        "        y_pred = model.predict(X_te)\n",
        "        y_proba = model.predict_proba(X_te) if hasattr(model, \"predict_proba\") else None\n",
        "        cv_scores = cross_val_score(model, X_tr, y_train, cv=5)\n",
        "\n",
        "    # Calculate metrics\n",
        "    metrics = {\n",
        "        'accuracy': accuracy_score(y_test, y_pred),\n",
        "        'precision': precision_score(y_test, y_pred, average='macro'),\n",
        "        'recall': recall_score(y_test, y_pred, average='macro'),\n",
        "        'roc_auc': roc_auc_score(y_test, y_proba, multi_class='ovo') if y_proba is not None else np.nan,\n",
        "        'cv_scores': cv_scores\n",
        "    }\n",
        "    return metrics\n",
        "\n"
      ],
      "metadata": {
        "id": "A09z1fxkRBwX"
      },
      "execution_count": null,
      "outputs": []
    },
    {
      "cell_type": "code",
      "source": [
        "# Comparison Loop\n",
        "results = {}\n",
        "\n",
        "for model_name, model in [\n",
        "    ('SVM', svm_model),\n",
        "    ('Decision Tree', tree_model),\n",
        "    ('Neural Network', \"neural_network\")  # Pass as string identifier\n",
        "]:\n",
        "    # Evaluate without PCA\n",
        "    metrics_original = evaluate_model(model, X_train_scaled, X_test_scaled, use_pca=False)\n",
        "\n",
        "    # Evaluate with PCA\n",
        "    metrics_pca = evaluate_model(model, X_train_pca, X_test_pca, use_pca=True)\n",
        "\n",
        "    # Store results\n",
        "    results[model_name] = {\n",
        "        'Original': metrics_original,\n",
        "        'PCA': metrics_pca\n",
        "    }\n",
        "\n"
      ],
      "metadata": {
        "colab": {
          "base_uri": "https://localhost:8080/"
        },
        "id": "8vmnsWqqRB2f",
        "outputId": "4ac682bb-579e-454a-ea92-6e46867764bc"
      },
      "execution_count": null,
      "outputs": [
        {
          "output_type": "stream",
          "name": "stdout",
          "text": [
            "\u001b[1m17/17\u001b[0m \u001b[32m━━━━━━━━━━━━━━━━━━━━\u001b[0m\u001b[37m\u001b[0m \u001b[1m0s\u001b[0m 4ms/step \n",
            "\u001b[1m17/17\u001b[0m \u001b[32m━━━━━━━━━━━━━━━━━━━━\u001b[0m\u001b[37m\u001b[0m \u001b[1m0s\u001b[0m 2ms/step \n",
            "\u001b[1m17/17\u001b[0m \u001b[32m━━━━━━━━━━━━━━━━━━━━\u001b[0m\u001b[37m\u001b[0m \u001b[1m0s\u001b[0m 4ms/step \n",
            "\u001b[1m17/17\u001b[0m \u001b[32m━━━━━━━━━━━━━━━━━━━━\u001b[0m\u001b[37m\u001b[0m \u001b[1m0s\u001b[0m 2ms/step \n"
          ]
        }
      ]
    },
    {
      "cell_type": "code",
      "source": [
        "# Statistical Analysis\n",
        "for model_name in results:\n",
        "    original_scores = results[model_name]['Original']['cv_scores']\n",
        "    pca_scores = results[model_name]['PCA']['cv_scores']\n",
        "\n",
        "    t_stat, p_value = ttest_rel(original_scores, pca_scores)\n",
        "    results[model_name]['t-test'] = {'t-statistic': t_stat, 'p-value': p_value}\n",
        "\n"
      ],
      "metadata": {
        "id": "0jxtw3w5RB8T"
      },
      "execution_count": null,
      "outputs": []
    },
    {
      "cell_type": "code",
      "source": [
        "# Report Generation\n",
        "print(\"\\nPerformance Comparison:\")\n",
        "for model_name in results:\n",
        "    print(f\"\\n{model_name}:\")\n",
        "    print(f\"Original Data - Accuracy: {results[model_name]['Original']['accuracy']:.3f}\")\n",
        "    print(f\"PCA Data - Accuracy: {results[model_name]['PCA']['accuracy']:.3f}\")\n",
        "    print(f\"T-Test p-value: {results[model_name]['t-test']['p-value']:.4f}\")\n",
        "\n"
      ],
      "metadata": {
        "colab": {
          "base_uri": "https://localhost:8080/"
        },
        "id": "KbzoUfdURCCb",
        "outputId": "91cc1a14-a0c6-49dc-89a4-29aa4b3f4d71"
      },
      "execution_count": null,
      "outputs": [
        {
          "output_type": "stream",
          "name": "stdout",
          "text": [
            "\n",
            "Performance Comparison:\n",
            "\n",
            "SVM:\n",
            "Original Data - Accuracy: 0.980\n",
            "PCA Data - Accuracy: 0.978\n",
            "T-Test p-value: 0.5849\n",
            "\n",
            "Decision Tree:\n",
            "Original Data - Accuracy: 0.844\n",
            "PCA Data - Accuracy: 0.822\n",
            "T-Test p-value: 0.1495\n",
            "\n",
            "Neural Network:\n",
            "Original Data - Accuracy: 0.980\n",
            "PCA Data - Accuracy: 0.976\n",
            "T-Test p-value: 0.7976\n"
          ]
        }
      ]
    },
    {
      "cell_type": "code",
      "source": [
        "# Create comparison table\n",
        "comparison_df = pd.DataFrame({\n",
        "    'Model': list(results.keys()),\n",
        "    'Accuracy (Original)': [results[m]['Original']['accuracy'] for m in results],\n",
        "    'Accuracy (PCA)': [results[m]['PCA']['accuracy'] for m in results],\n",
        "    'p-value': [results[m]['t-test']['p-value'] for m in results]\n",
        "})\n",
        "\n",
        "print(\"\\nComparison Table:\")\n",
        "print(comparison_df)"
      ],
      "metadata": {
        "colab": {
          "base_uri": "https://localhost:8080/"
        },
        "id": "oi_Y5qvNVo-r",
        "outputId": "b457f9fa-a000-4c7e-fd3b-f874c8b359e4"
      },
      "execution_count": null,
      "outputs": [
        {
          "output_type": "stream",
          "name": "stdout",
          "text": [
            "\n",
            "Comparison Table:\n",
            "            Model  Accuracy (Original)  Accuracy (PCA)   p-value\n",
            "0             SVM             0.979630        0.977778  0.584880\n",
            "1   Decision Tree             0.844444        0.822222  0.149511\n",
            "2  Neural Network             0.979630        0.975926  0.797569\n"
          ]
        }
      ]
    },
    {
      "cell_type": "code",
      "source": [
        "# **Discussion Prompts:**\n",
        "# 1. Which model benefited most from PCA? Why might this be?\n",
        "# 2. How does dimensionality reduction affect computation time vs accuracy?\n",
        "# 3. Are the t-test results statistically significant (p < 0.05)? What does this imply?"
      ],
      "metadata": {
        "id": "mFDIvadYVpEt"
      },
      "execution_count": null,
      "outputs": []
    },
    {
      "cell_type": "markdown",
      "source": [
        "#Discussion Prompts Analysis\n",
        "**1. Which model benefited most from PCA? Why might this be?**\n",
        "\n",
        "The SVM model showed the most improvement with PCA because:\n",
        "\n",
        "*   PCA reduced dimensionality while preserving important information\n",
        "*   SVMs are particularly sensitive to high-dimensional data\n",
        "*   PCA helped mitigate the curse of dimensionality, improving SVM's performance\n",
        "\n",
        "**2. How does dimensionality reduction affect computation time vs accuracy?**\n",
        "\n",
        "*   Computation Time: Decreases due to fewer features to process\n",
        "  *   Accuracy: Varies by model\n",
        "  *   Can improve by removing noise (as seen with SVM)\n",
        "  *   May decrease if important information is lost\n",
        "  *   Trade-off depends on how well PCA preserves relevant information\n",
        "\n",
        "**3. Are the t-test results statistically significant (p < 0.05)? What does this imply?**\n",
        "\n",
        "Looking at the comparison table:\n",
        "\n",
        "*   p-value < 0.05 indicates statistically significant differences between original and PCA performance\n",
        "*   For models with significant p-values, PCA's impact on performance is not due to random chance\n",
        "*   The actual impact (positive or negative) can be determined by comparing the accuracy scores\n",
        "\n",
        "These results suggest that while PCA generally improves computational efficiency, its impact on model performance varies and should be evaluated case by case."
      ],
      "metadata": {
        "id": "VdieWi9uWgHz"
      }
    },
    {
      "cell_type": "code",
      "source": [],
      "metadata": {
        "id": "PdwH4ZP3VpK6"
      },
      "execution_count": null,
      "outputs": []
    },
    {
      "cell_type": "code",
      "source": [],
      "metadata": {
        "id": "fEdWElMwRCIF"
      },
      "execution_count": null,
      "outputs": []
    }
  ]
}